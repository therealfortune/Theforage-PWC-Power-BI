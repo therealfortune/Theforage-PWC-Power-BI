{
    "metadata": {
        "kernelspec": {
            "name": "SQL",
            "display_name": "SQL",
            "language": "sql"
        },
        "language_info": {
            "name": "sql",
            "version": ""
        }
    },
    "nbformat_minor": 2,
    "nbformat": 4,
    "cells": [
        {
            "cell_type": "code",
            "source": [
                "SELECT TOP 3 * \r\n",
                "FROM Call_center"
            ],
            "metadata": {
                "azdata_cell_guid": "d80fd53d-7f9b-4863-95fc-bc86692bd54b",
                "language": "sql"
            },
            "outputs": [
                {
                    "output_type": "display_data",
                    "data": {
                        "text/html": "(3 rows affected)"
                    },
                    "metadata": {}
                },
                {
                    "output_type": "display_data",
                    "data": {
                        "text/html": "Total execution time: 00:00:00.022"
                    },
                    "metadata": {}
                },
                {
                    "output_type": "execute_result",
                    "execution_count": 2,
                    "data": {
                        "application/vnd.dataresource+json": {
                            "schema": {
                                "fields": [
                                    {
                                        "name": "Call_Id"
                                    },
                                    {
                                        "name": "Agent"
                                    },
                                    {
                                        "name": "Date"
                                    },
                                    {
                                        "name": "Time"
                                    },
                                    {
                                        "name": "Topic"
                                    },
                                    {
                                        "name": "Answered_Y_N"
                                    },
                                    {
                                        "name": "Resolved"
                                    },
                                    {
                                        "name": "Speed_of_answer_in_seconds"
                                    },
                                    {
                                        "name": "AvgTalkDuration"
                                    },
                                    {
                                        "name": "Satisfaction_rating"
                                    }
                                ]
                            },
                            "data": [
                                {
                                    "0": "ID0001",
                                    "1": "Diane",
                                    "2": "2021-01-01",
                                    "3": "09:12:58",
                                    "4": "Contract related",
                                    "5": "1",
                                    "6": "1",
                                    "7": "109",
                                    "8": "00:02:23",
                                    "9": "3"
                                },
                                {
                                    "0": "ID0002",
                                    "1": "Becky",
                                    "2": "2021-01-01",
                                    "3": "09:12:58",
                                    "4": "Technical Support",
                                    "5": "1",
                                    "6": "0",
                                    "7": "70",
                                    "8": "00:04:02",
                                    "9": "3"
                                },
                                {
                                    "0": "ID0003",
                                    "1": "Stewart",
                                    "2": "2021-01-01",
                                    "3": "09:47:31",
                                    "4": "Contract related",
                                    "5": "1",
                                    "6": "1",
                                    "7": "10",
                                    "8": "00:02:11",
                                    "9": "3"
                                }
                            ]
                        },
                        "text/html": "<table><tr><th>Call_Id</th><th>Agent</th><th>Date</th><th>Time</th><th>Topic</th><th>Answered_Y_N</th><th>Resolved</th><th>Speed_of_answer_in_seconds</th><th>AvgTalkDuration</th><th>Satisfaction_rating</th></tr><tr><td>ID0001</td><td>Diane</td><td>2021-01-01</td><td>09:12:58</td><td>Contract related</td><td>1</td><td>1</td><td>109</td><td>00:02:23</td><td>3</td></tr><tr><td>ID0002</td><td>Becky</td><td>2021-01-01</td><td>09:12:58</td><td>Technical Support</td><td>1</td><td>0</td><td>70</td><td>00:04:02</td><td>3</td></tr><tr><td>ID0003</td><td>Stewart</td><td>2021-01-01</td><td>09:47:31</td><td>Contract related</td><td>1</td><td>1</td><td>10</td><td>00:02:11</td><td>3</td></tr></table>"
                    },
                    "metadata": {}
                }
            ],
            "execution_count": 2
        },
        {
            "cell_type": "code",
            "source": [
                "SELECT COUNT(*)\r\n",
                "FROM Call_center"
            ],
            "metadata": {
                "language": "sql",
                "azdata_cell_guid": "6a241dd5-8712-47a0-8f5d-99202f726f06"
            },
            "outputs": [
                {
                    "output_type": "display_data",
                    "data": {
                        "text/html": "(1 row affected)"
                    },
                    "metadata": {}
                },
                {
                    "output_type": "display_data",
                    "data": {
                        "text/html": "Total execution time: 00:00:00.021"
                    },
                    "metadata": {}
                },
                {
                    "output_type": "execute_result",
                    "execution_count": 9,
                    "data": {
                        "application/vnd.dataresource+json": {
                            "schema": {
                                "fields": [
                                    {
                                        "name": "(No column name)"
                                    }
                                ]
                            },
                            "data": [
                                {
                                    "0": "5000"
                                }
                            ]
                        },
                        "text/html": "<table><tr><th>(No column name)</th></tr><tr><td>5000</td></tr></table>"
                    },
                    "metadata": {}
                }
            ],
            "execution_count": 9
        },
        {
            "cell_type": "code",
            "source": [
                "SELECT DISTINCT Satisfaction_rating\r\n",
                "FROM Call_center"
            ],
            "metadata": {
                "azdata_cell_guid": "e135d83e-3015-488b-931a-488a803a71d5",
                "language": "sql"
            },
            "outputs": [
                {
                    "output_type": "display_data",
                    "data": {
                        "text/html": "(6 rows affected)"
                    },
                    "metadata": {}
                },
                {
                    "output_type": "display_data",
                    "data": {
                        "text/html": "Total execution time: 00:00:00.025"
                    },
                    "metadata": {}
                },
                {
                    "output_type": "execute_result",
                    "execution_count": 3,
                    "data": {
                        "application/vnd.dataresource+json": {
                            "schema": {
                                "fields": [
                                    {
                                        "name": "Satisfaction_rating"
                                    }
                                ]
                            },
                            "data": [
                                {
                                    "0": "3"
                                },
                                {
                                    "0": "NULL"
                                },
                                {
                                    "0": "1"
                                },
                                {
                                    "0": "4"
                                },
                                {
                                    "0": "5"
                                },
                                {
                                    "0": "2"
                                }
                            ]
                        },
                        "text/html": "<table><tr><th>Satisfaction_rating</th></tr><tr><td>3</td></tr><tr><td>NULL</td></tr><tr><td>1</td></tr><tr><td>4</td></tr><tr><td>5</td></tr><tr><td>2</td></tr></table>"
                    },
                    "metadata": {}
                }
            ],
            "execution_count": 3
        },
        {
            "cell_type": "code",
            "source": [
                "SELECT DISTINCT Satisfaction_rating, COUNT(Satisfaction_rating)\r\n",
                "FROM Call_center\r\n",
                "GROUP BY Satisfaction_rating"
            ],
            "metadata": {
                "azdata_cell_guid": "73106607-16db-4c37-bfa7-9a0ff9d58048",
                "language": "sql"
            },
            "outputs": [
                {
                    "output_type": "display_data",
                    "data": {
                        "text/html": "Warning: Null value is eliminated by an aggregate or other SET operation."
                    },
                    "metadata": {}
                },
                {
                    "output_type": "display_data",
                    "data": {
                        "text/html": "(6 rows affected)"
                    },
                    "metadata": {}
                },
                {
                    "output_type": "display_data",
                    "data": {
                        "text/html": "Total execution time: 00:00:00.014"
                    },
                    "metadata": {}
                },
                {
                    "output_type": "execute_result",
                    "execution_count": 5,
                    "data": {
                        "application/vnd.dataresource+json": {
                            "schema": {
                                "fields": [
                                    {
                                        "name": "Satisfaction_rating"
                                    },
                                    {
                                        "name": "(No column name)"
                                    }
                                ]
                            },
                            "data": [
                                {
                                    "0": "3",
                                    "1": "1218"
                                },
                                {
                                    "0": "NULL",
                                    "1": "0"
                                },
                                {
                                    "0": "1",
                                    "1": "417"
                                },
                                {
                                    "0": "4",
                                    "1": "1180"
                                },
                                {
                                    "0": "5",
                                    "1": "843"
                                },
                                {
                                    "0": "2",
                                    "1": "396"
                                }
                            ]
                        },
                        "text/html": "<table><tr><th>Satisfaction_rating</th><th>(No column name)</th></tr><tr><td>3</td><td>1218</td></tr><tr><td>NULL</td><td>0</td></tr><tr><td>1</td><td>417</td></tr><tr><td>4</td><td>1180</td></tr><tr><td>5</td><td>843</td></tr><tr><td>2</td><td>396</td></tr></table>"
                    },
                    "metadata": {}
                }
            ],
            "execution_count": 5
        },
        {
            "cell_type": "markdown",
            "source": [
                "OVERALL CALL ANSWERED"
            ],
            "metadata": {
                "language": "sql",
                "azdata_cell_guid": "691ae3cf-1579-473a-95f8-4b6bd8b3eab2"
            },
            "attachments": {}
        },
        {
            "cell_type": "code",
            "source": [
                "SELECT COUNT(*) AS Call_Answered\r\n",
                "FROM Call_center\r\n",
                "WHERE AvgTalkDuration IS NOT NULL"
            ],
            "metadata": {
                "azdata_cell_guid": "cb8e1693-68bc-4122-9490-9cf30c13f571",
                "language": "sql"
            },
            "outputs": [
                {
                    "output_type": "display_data",
                    "data": {
                        "text/html": "(1 row affected)"
                    },
                    "metadata": {}
                },
                {
                    "output_type": "display_data",
                    "data": {
                        "text/html": "Total execution time: 00:00:00.009"
                    },
                    "metadata": {}
                },
                {
                    "output_type": "execute_result",
                    "execution_count": 8,
                    "data": {
                        "application/vnd.dataresource+json": {
                            "schema": {
                                "fields": [
                                    {
                                        "name": "Call_Answered"
                                    }
                                ]
                            },
                            "data": [
                                {
                                    "0": "4054"
                                }
                            ]
                        },
                        "text/html": "<table><tr><th>Call_Answered</th></tr><tr><td>4054</td></tr></table>"
                    },
                    "metadata": {}
                }
            ],
            "execution_count": 8
        },
        {
            "cell_type": "markdown",
            "source": [
                "OVERALL CALL NOT ANSWERED"
            ],
            "metadata": {
                "language": "sql",
                "azdata_cell_guid": "d06d3991-f14d-49f6-9bad-4a18dff7d884"
            },
            "attachments": {}
        },
        {
            "cell_type": "code",
            "source": [
                "SELECT COUNT(*) AS Not_Answered \r\n",
                "FROM Call_center\r\n",
                "WHERE AvgTalkDuration IS NULL"
            ],
            "metadata": {
                "azdata_cell_guid": "a21ad06f-cf33-4da3-bfe9-9498a0ccc1d1",
                "language": "sql"
            },
            "outputs": [
                {
                    "output_type": "display_data",
                    "data": {
                        "text/html": "(1 row affected)"
                    },
                    "metadata": {}
                },
                {
                    "output_type": "display_data",
                    "data": {
                        "text/html": "Total execution time: 00:00:00.009"
                    },
                    "metadata": {}
                },
                {
                    "output_type": "execute_result",
                    "execution_count": 11,
                    "data": {
                        "application/vnd.dataresource+json": {
                            "schema": {
                                "fields": [
                                    {
                                        "name": "Not_Answered"
                                    }
                                ]
                            },
                            "data": [
                                {
                                    "0": "946"
                                }
                            ]
                        },
                        "text/html": "<table><tr><th>Not_Answered</th></tr><tr><td>946</td></tr></table>"
                    },
                    "metadata": {}
                }
            ],
            "execution_count": 11
        },
        {
            "cell_type": "code",
            "source": [
                ""
            ],
            "metadata": {
                "azdata_cell_guid": "53945a4f-e6ea-44a1-a610-48ce80fd3c7e",
                "language": "sql"
            },
            "outputs": [],
            "execution_count": null
        },
        {
            "cell_type": "code",
            "source": [
                ""
            ],
            "metadata": {
                "azdata_cell_guid": "6490827b-3223-4391-a41d-f4e1a68ab3c0",
                "language": "sql"
            },
            "outputs": [],
            "execution_count": null
        },
        {
            "cell_type": "code",
            "source": [
                ""
            ],
            "metadata": {
                "azdata_cell_guid": "cfa0d1c3-d231-4214-a9ca-363c20ca7959",
                "language": "sql"
            },
            "outputs": [],
            "execution_count": null
        },
        {
            "cell_type": "code",
            "source": [
                ""
            ],
            "metadata": {
                "azdata_cell_guid": "7b4668d7-b6f6-47ef-b305-804c2dca1914",
                "language": "sql"
            },
            "outputs": [],
            "execution_count": null
        },
        {
            "cell_type": "code",
            "source": [
                ""
            ],
            "metadata": {
                "azdata_cell_guid": "ab26fc26-8fc1-418b-a196-b4e47dcaf86f",
                "language": "sql"
            },
            "outputs": [],
            "execution_count": null
        },
        {
            "cell_type": "code",
            "source": [
                ""
            ],
            "metadata": {
                "azdata_cell_guid": "39bff677-7c42-4b2a-97b5-17d08466f44e",
                "language": "sql"
            },
            "outputs": [],
            "execution_count": null
        },
        {
            "cell_type": "code",
            "source": [
                ""
            ],
            "metadata": {
                "azdata_cell_guid": "fc04ac0d-66ec-46fe-b963-34810ed1e590",
                "language": "sql"
            },
            "outputs": [],
            "execution_count": null
        }
    ]
}